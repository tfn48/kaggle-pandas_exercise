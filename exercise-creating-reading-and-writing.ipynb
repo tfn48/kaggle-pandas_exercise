{
 "cells": [
  {
   "cell_type": "markdown",
   "id": "3ac6c870",
   "metadata": {
    "papermill": {
     "duration": 0.007128,
     "end_time": "2024-09-10T10:01:16.924659",
     "exception": false,
     "start_time": "2024-09-10T10:01:16.917531",
     "status": "completed"
    },
    "tags": []
   },
   "source": [
    "**This notebook is an exercise in the [Pandas](https://www.kaggle.com/learn/pandas) course.  You can reference the tutorial at [this link](https://www.kaggle.com/residentmario/creating-reading-and-writing).**\n",
    "\n",
    "---\n"
   ]
  },
  {
   "cell_type": "markdown",
   "id": "7f16cc75",
   "metadata": {
    "papermill": {
     "duration": 0.006176,
     "end_time": "2024-09-10T10:01:16.937566",
     "exception": false,
     "start_time": "2024-09-10T10:01:16.931390",
     "status": "completed"
    },
    "tags": []
   },
   "source": [
    "# Introduction\n",
    "\n",
    "The first step in most data analytics projects is reading the data file. In this exercise, you'll create Series and DataFrame objects, both by hand and by reading data files.\n",
    "\n",
    "Run the code cell below to load libraries you will need (including code to check your answers)."
   ]
  },
  {
   "cell_type": "code",
   "execution_count": 1,
   "id": "3a31f7a5",
   "metadata": {
    "execution": {
     "iopub.execute_input": "2024-09-10T10:01:16.954177Z",
     "iopub.status.busy": "2024-09-10T10:01:16.953729Z",
     "iopub.status.idle": "2024-09-10T10:01:19.389260Z",
     "shell.execute_reply": "2024-09-10T10:01:19.388028Z"
    },
    "papermill": {
     "duration": 2.446285,
     "end_time": "2024-09-10T10:01:19.391910",
     "exception": false,
     "start_time": "2024-09-10T10:01:16.945625",
     "status": "completed"
    },
    "tags": []
   },
   "outputs": [
    {
     "name": "stdout",
     "output_type": "stream",
     "text": [
      "Setup complete.\n"
     ]
    }
   ],
   "source": [
    "import pandas as pd\n",
    "pd.set_option('display.max_rows', 5)\n",
    "from learntools.core import binder; binder.bind(globals())\n",
    "from learntools.pandas.creating_reading_and_writing import *\n",
    "print(\"Setup complete.\")"
   ]
  },
  {
   "cell_type": "markdown",
   "id": "f1166790",
   "metadata": {
    "papermill": {
     "duration": 0.006513,
     "end_time": "2024-09-10T10:01:19.405468",
     "exception": false,
     "start_time": "2024-09-10T10:01:19.398955",
     "status": "completed"
    },
    "tags": []
   },
   "source": [
    "# Exercises"
   ]
  },
  {
   "cell_type": "markdown",
   "id": "d38434f8",
   "metadata": {
    "papermill": {
     "duration": 0.00648,
     "end_time": "2024-09-10T10:01:19.418658",
     "exception": false,
     "start_time": "2024-09-10T10:01:19.412178",
     "status": "completed"
    },
    "tags": []
   },
   "source": [
    "## 1.\n",
    "\n",
    "In the cell below, create a DataFrame `fruits` that looks like this:\n",
    "\n",
    "![](https://storage.googleapis.com/kaggle-media/learn/images/Ax3pp2A.png)"
   ]
  },
  {
   "cell_type": "code",
   "execution_count": 2,
   "id": "3816fdd6",
   "metadata": {
    "execution": {
     "iopub.execute_input": "2024-09-10T10:01:19.434075Z",
     "iopub.status.busy": "2024-09-10T10:01:19.433578Z",
     "iopub.status.idle": "2024-09-10T10:01:19.446757Z",
     "shell.execute_reply": "2024-09-10T10:01:19.445724Z"
    },
    "papermill": {
     "duration": 0.023898,
     "end_time": "2024-09-10T10:01:19.449272",
     "exception": false,
     "start_time": "2024-09-10T10:01:19.425374",
     "status": "completed"
    },
    "tags": []
   },
   "outputs": [
    {
     "data": {
      "application/javascript": [
       "parent.postMessage({\"jupyterEvent\": \"custom.exercise_interaction\", \"data\": {\"outcomeType\": 4, \"interactionType\": 1, \"questionType\": 1, \"questionId\": \"1_FruitDfCreation\", \"learnToolsVersion\": \"0.3.4\", \"valueTowardsCompletion\": 0.0, \"failureMessage\": \"\", \"exceptionClass\": \"\", \"trace\": \"\"}}, \"*\")"
      ],
      "text/plain": [
       "<IPython.core.display.Javascript object>"
      ]
     },
     "metadata": {},
     "output_type": "display_data"
    },
    {
     "data": {
      "text/markdown": [
       "<span style=\"color:#ccaa33\">Check:</span> When you've updated the starter code, `check()` will tell you whether your code is correct. You need to update the code that creates variable `fruits`"
      ],
      "text/plain": [
       "Check: When you've updated the starter code, `check()` will tell you whether your code is correct. You need to update the code that creates variable `fruits`"
      ]
     },
     "metadata": {},
     "output_type": "display_data"
    },
    {
     "data": {
      "text/markdown": [],
      "text/plain": [
       "<learntools.core.constants.PlaceholderValue at 0x7dae5d0fdff0>"
      ]
     },
     "execution_count": 2,
     "metadata": {},
     "output_type": "execute_result"
    }
   ],
   "source": [
    "# Your code goes here. Create a dataframe matching the above diagram and assign it to the variable fruits.\n",
    "fruits = ____\n",
    "\n",
    "# Check your answer\n",
    "q1.check()\n",
    "fruits"
   ]
  },
  {
   "cell_type": "code",
   "execution_count": 3,
   "id": "70dd76f0",
   "metadata": {
    "execution": {
     "iopub.execute_input": "2024-09-10T10:01:19.466299Z",
     "iopub.status.busy": "2024-09-10T10:01:19.465601Z",
     "iopub.status.idle": "2024-09-10T10:01:19.470377Z",
     "shell.execute_reply": "2024-09-10T10:01:19.469262Z"
    },
    "papermill": {
     "duration": 0.016064,
     "end_time": "2024-09-10T10:01:19.472674",
     "exception": false,
     "start_time": "2024-09-10T10:01:19.456610",
     "status": "completed"
    },
    "tags": []
   },
   "outputs": [],
   "source": [
    "#q1.hint()\n",
    "#q1.solution()"
   ]
  },
  {
   "cell_type": "markdown",
   "id": "0e80fee3",
   "metadata": {
    "papermill": {
     "duration": 0.007148,
     "end_time": "2024-09-10T10:01:19.487257",
     "exception": false,
     "start_time": "2024-09-10T10:01:19.480109",
     "status": "completed"
    },
    "tags": []
   },
   "source": [
    "## 2.\n",
    "\n",
    "Create a dataframe `fruit_sales` that matches the diagram below:\n",
    "\n",
    "![](https://storage.googleapis.com/kaggle-media/learn/images/CHPn7ZF.png)"
   ]
  },
  {
   "cell_type": "code",
   "execution_count": 4,
   "id": "53842d3c",
   "metadata": {
    "execution": {
     "iopub.execute_input": "2024-09-10T10:01:19.504138Z",
     "iopub.status.busy": "2024-09-10T10:01:19.503425Z",
     "iopub.status.idle": "2024-09-10T10:01:19.514639Z",
     "shell.execute_reply": "2024-09-10T10:01:19.513641Z"
    },
    "papermill": {
     "duration": 0.022239,
     "end_time": "2024-09-10T10:01:19.516896",
     "exception": false,
     "start_time": "2024-09-10T10:01:19.494657",
     "status": "completed"
    },
    "tags": []
   },
   "outputs": [
    {
     "data": {
      "application/javascript": [
       "parent.postMessage({\"jupyterEvent\": \"custom.exercise_interaction\", \"data\": {\"outcomeType\": 4, \"interactionType\": 1, \"questionType\": 1, \"questionId\": \"2_FruitSalesDfCreation\", \"learnToolsVersion\": \"0.3.4\", \"valueTowardsCompletion\": 0.0, \"failureMessage\": \"\", \"exceptionClass\": \"\", \"trace\": \"\"}}, \"*\")"
      ],
      "text/plain": [
       "<IPython.core.display.Javascript object>"
      ]
     },
     "metadata": {},
     "output_type": "display_data"
    },
    {
     "data": {
      "text/markdown": [
       "<span style=\"color:#ccaa33\">Check:</span> When you've updated the starter code, `check()` will tell you whether your code is correct. You need to update the code that creates variable `fruit_sales`"
      ],
      "text/plain": [
       "Check: When you've updated the starter code, `check()` will tell you whether your code is correct. You need to update the code that creates variable `fruit_sales`"
      ]
     },
     "metadata": {},
     "output_type": "display_data"
    },
    {
     "data": {
      "text/markdown": [],
      "text/plain": [
       "<learntools.core.constants.PlaceholderValue at 0x7dae5d0fdff0>"
      ]
     },
     "execution_count": 4,
     "metadata": {},
     "output_type": "execute_result"
    }
   ],
   "source": [
    "# Your code goes here. Create a dataframe matching the above diagram and assign it to the variable fruit_sales.\n",
    "fruit_sales = ____\n",
    "\n",
    "# Check your answer\n",
    "q2.check()\n",
    "fruit_sales"
   ]
  },
  {
   "cell_type": "code",
   "execution_count": 5,
   "id": "f77b81a5",
   "metadata": {
    "execution": {
     "iopub.execute_input": "2024-09-10T10:01:19.535896Z",
     "iopub.status.busy": "2024-09-10T10:01:19.534721Z",
     "iopub.status.idle": "2024-09-10T10:01:19.539862Z",
     "shell.execute_reply": "2024-09-10T10:01:19.538710Z"
    },
    "papermill": {
     "duration": 0.017279,
     "end_time": "2024-09-10T10:01:19.542231",
     "exception": false,
     "start_time": "2024-09-10T10:01:19.524952",
     "status": "completed"
    },
    "tags": []
   },
   "outputs": [],
   "source": [
    "#q2.hint()\n",
    "#q2.solution()"
   ]
  },
  {
   "cell_type": "markdown",
   "id": "41cebec5",
   "metadata": {
    "papermill": {
     "duration": 0.007847,
     "end_time": "2024-09-10T10:01:19.558129",
     "exception": false,
     "start_time": "2024-09-10T10:01:19.550282",
     "status": "completed"
    },
    "tags": []
   },
   "source": [
    "## 3.\n",
    "\n",
    "Create a variable `ingredients` with a Series that looks like:\n",
    "\n",
    "```\n",
    "Flour     4 cups\n",
    "Milk       1 cup\n",
    "Eggs     2 large\n",
    "Spam       1 can\n",
    "Name: Dinner, dtype: object\n",
    "```"
   ]
  },
  {
   "cell_type": "code",
   "execution_count": 6,
   "id": "89978a52",
   "metadata": {
    "execution": {
     "iopub.execute_input": "2024-09-10T10:01:19.576991Z",
     "iopub.status.busy": "2024-09-10T10:01:19.575912Z",
     "iopub.status.idle": "2024-09-10T10:01:19.587610Z",
     "shell.execute_reply": "2024-09-10T10:01:19.586539Z"
    },
    "papermill": {
     "duration": 0.023826,
     "end_time": "2024-09-10T10:01:19.590157",
     "exception": false,
     "start_time": "2024-09-10T10:01:19.566331",
     "status": "completed"
    },
    "tags": []
   },
   "outputs": [
    {
     "data": {
      "application/javascript": [
       "parent.postMessage({\"jupyterEvent\": \"custom.exercise_interaction\", \"data\": {\"outcomeType\": 4, \"interactionType\": 1, \"questionType\": 2, \"questionId\": \"3_RecipeSeriesCreation\", \"learnToolsVersion\": \"0.3.4\", \"valueTowardsCompletion\": 0.0, \"failureMessage\": \"\", \"exceptionClass\": \"\", \"trace\": \"\"}}, \"*\")"
      ],
      "text/plain": [
       "<IPython.core.display.Javascript object>"
      ]
     },
     "metadata": {},
     "output_type": "display_data"
    },
    {
     "data": {
      "text/markdown": [
       "<span style=\"color:#ccaa33\">Check:</span> When you've updated the starter code, `check()` will tell you whether your code is correct. You need to update the code that creates variable `ingredients`"
      ],
      "text/plain": [
       "Check: When you've updated the starter code, `check()` will tell you whether your code is correct. You need to update the code that creates variable `ingredients`"
      ]
     },
     "metadata": {},
     "output_type": "display_data"
    },
    {
     "data": {
      "text/markdown": [],
      "text/plain": [
       "<learntools.core.constants.PlaceholderValue at 0x7dae5d0fdff0>"
      ]
     },
     "execution_count": 6,
     "metadata": {},
     "output_type": "execute_result"
    }
   ],
   "source": [
    "ingredients = ____\n",
    "\n",
    "# Check your answer\n",
    "q3.check()\n",
    "ingredients"
   ]
  },
  {
   "cell_type": "code",
   "execution_count": 7,
   "id": "4cbc1f23",
   "metadata": {
    "execution": {
     "iopub.execute_input": "2024-09-10T10:01:19.610029Z",
     "iopub.status.busy": "2024-09-10T10:01:19.609523Z",
     "iopub.status.idle": "2024-09-10T10:01:19.614848Z",
     "shell.execute_reply": "2024-09-10T10:01:19.613737Z"
    },
    "papermill": {
     "duration": 0.018199,
     "end_time": "2024-09-10T10:01:19.617348",
     "exception": false,
     "start_time": "2024-09-10T10:01:19.599149",
     "status": "completed"
    },
    "tags": []
   },
   "outputs": [],
   "source": [
    "#q3.hint()\n",
    "#q3.solution()"
   ]
  },
  {
   "cell_type": "markdown",
   "id": "d76c0b1d",
   "metadata": {
    "papermill": {
     "duration": 0.008406,
     "end_time": "2024-09-10T10:01:19.634753",
     "exception": false,
     "start_time": "2024-09-10T10:01:19.626347",
     "status": "completed"
    },
    "tags": []
   },
   "source": [
    "## 4.\n",
    "\n",
    "Read the following csv dataset of wine reviews into a DataFrame called `reviews`:\n",
    "\n",
    "![](https://storage.googleapis.com/kaggle-media/learn/images/74RCZtU.png)\n",
    "\n",
    "The filepath to the csv file is `../input/wine-reviews/winemag-data_first150k.csv`. The first few lines look like:\n",
    "\n",
    "```\n",
    ",country,description,designation,points,price,province,region_1,region_2,variety,winery\n",
    "0,US,\"This tremendous 100% varietal wine[...]\",Martha's Vineyard,96,235.0,California,Napa Valley,Napa,Cabernet Sauvignon,Heitz\n",
    "1,Spain,\"Ripe aromas of fig, blackberry and[...]\",Carodorum Selección Especial Reserva,96,110.0,Northern Spain,Toro,,Tinta de Toro,Bodega Carmen Rodríguez\n",
    "```"
   ]
  },
  {
   "cell_type": "code",
   "execution_count": 8,
   "id": "8a032d9d",
   "metadata": {
    "execution": {
     "iopub.execute_input": "2024-09-10T10:01:19.653958Z",
     "iopub.status.busy": "2024-09-10T10:01:19.653502Z",
     "iopub.status.idle": "2024-09-10T10:01:19.665159Z",
     "shell.execute_reply": "2024-09-10T10:01:19.664133Z"
    },
    "papermill": {
     "duration": 0.02413,
     "end_time": "2024-09-10T10:01:19.667549",
     "exception": false,
     "start_time": "2024-09-10T10:01:19.643419",
     "status": "completed"
    },
    "tags": []
   },
   "outputs": [
    {
     "data": {
      "application/javascript": [
       "parent.postMessage({\"jupyterEvent\": \"custom.exercise_interaction\", \"data\": {\"outcomeType\": 4, \"interactionType\": 1, \"questionType\": 1, \"questionId\": \"4_ReadWineCsv\", \"learnToolsVersion\": \"0.3.4\", \"valueTowardsCompletion\": 0.0, \"failureMessage\": \"\", \"exceptionClass\": \"\", \"trace\": \"\"}}, \"*\")"
      ],
      "text/plain": [
       "<IPython.core.display.Javascript object>"
      ]
     },
     "metadata": {},
     "output_type": "display_data"
    },
    {
     "data": {
      "text/markdown": [
       "<span style=\"color:#ccaa33\">Check:</span> When you've updated the starter code, `check()` will tell you whether your code is correct. You need to update the code that creates variable `reviews`"
      ],
      "text/plain": [
       "Check: When you've updated the starter code, `check()` will tell you whether your code is correct. You need to update the code that creates variable `reviews`"
      ]
     },
     "metadata": {},
     "output_type": "display_data"
    },
    {
     "data": {
      "text/markdown": [],
      "text/plain": [
       "<learntools.core.constants.PlaceholderValue at 0x7dae5d0fdff0>"
      ]
     },
     "execution_count": 8,
     "metadata": {},
     "output_type": "execute_result"
    }
   ],
   "source": [
    "reviews = ____\n",
    "\n",
    "# Check your answer\n",
    "q4.check()\n",
    "reviews"
   ]
  },
  {
   "cell_type": "code",
   "execution_count": 9,
   "id": "5a9917d1",
   "metadata": {
    "execution": {
     "iopub.execute_input": "2024-09-10T10:01:19.688434Z",
     "iopub.status.busy": "2024-09-10T10:01:19.687692Z",
     "iopub.status.idle": "2024-09-10T10:01:19.692185Z",
     "shell.execute_reply": "2024-09-10T10:01:19.691173Z"
    },
    "papermill": {
     "duration": 0.017228,
     "end_time": "2024-09-10T10:01:19.694388",
     "exception": false,
     "start_time": "2024-09-10T10:01:19.677160",
     "status": "completed"
    },
    "tags": []
   },
   "outputs": [],
   "source": [
    "#q4.hint()\n",
    "#q4.solution()"
   ]
  },
  {
   "cell_type": "markdown",
   "id": "87a19f25",
   "metadata": {
    "papermill": {
     "duration": 0.008974,
     "end_time": "2024-09-10T10:01:19.712495",
     "exception": false,
     "start_time": "2024-09-10T10:01:19.703521",
     "status": "completed"
    },
    "tags": []
   },
   "source": [
    "## 5.\n",
    "\n",
    "Run the cell below to create and display a DataFrame called `animals`:"
   ]
  },
  {
   "cell_type": "code",
   "execution_count": 10,
   "id": "511ebec0",
   "metadata": {
    "execution": {
     "iopub.execute_input": "2024-09-10T10:01:19.733011Z",
     "iopub.status.busy": "2024-09-10T10:01:19.732553Z",
     "iopub.status.idle": "2024-09-10T10:01:19.749017Z",
     "shell.execute_reply": "2024-09-10T10:01:19.747849Z"
    },
    "papermill": {
     "duration": 0.029501,
     "end_time": "2024-09-10T10:01:19.751492",
     "exception": false,
     "start_time": "2024-09-10T10:01:19.721991",
     "status": "completed"
    },
    "tags": []
   },
   "outputs": [
    {
     "data": {
      "text/html": [
       "<div>\n",
       "<style scoped>\n",
       "    .dataframe tbody tr th:only-of-type {\n",
       "        vertical-align: middle;\n",
       "    }\n",
       "\n",
       "    .dataframe tbody tr th {\n",
       "        vertical-align: top;\n",
       "    }\n",
       "\n",
       "    .dataframe thead th {\n",
       "        text-align: right;\n",
       "    }\n",
       "</style>\n",
       "<table border=\"1\" class=\"dataframe\">\n",
       "  <thead>\n",
       "    <tr style=\"text-align: right;\">\n",
       "      <th></th>\n",
       "      <th>Cows</th>\n",
       "      <th>Goats</th>\n",
       "    </tr>\n",
       "  </thead>\n",
       "  <tbody>\n",
       "    <tr>\n",
       "      <th>Year 1</th>\n",
       "      <td>12</td>\n",
       "      <td>22</td>\n",
       "    </tr>\n",
       "    <tr>\n",
       "      <th>Year 2</th>\n",
       "      <td>20</td>\n",
       "      <td>19</td>\n",
       "    </tr>\n",
       "  </tbody>\n",
       "</table>\n",
       "</div>"
      ],
      "text/plain": [
       "        Cows  Goats\n",
       "Year 1    12     22\n",
       "Year 2    20     19"
      ]
     },
     "execution_count": 10,
     "metadata": {},
     "output_type": "execute_result"
    }
   ],
   "source": [
    "animals = pd.DataFrame({'Cows': [12, 20], 'Goats': [22, 19]}, index=['Year 1', 'Year 2'])\n",
    "animals"
   ]
  },
  {
   "cell_type": "markdown",
   "id": "e8c6b92e",
   "metadata": {
    "papermill": {
     "duration": 0.009463,
     "end_time": "2024-09-10T10:01:19.770785",
     "exception": false,
     "start_time": "2024-09-10T10:01:19.761322",
     "status": "completed"
    },
    "tags": []
   },
   "source": [
    "In the cell below, write code to save this DataFrame to disk as a csv file with the name `cows_and_goats.csv`."
   ]
  },
  {
   "cell_type": "code",
   "execution_count": 11,
   "id": "667a2203",
   "metadata": {
    "execution": {
     "iopub.execute_input": "2024-09-10T10:01:19.792610Z",
     "iopub.status.busy": "2024-09-10T10:01:19.792121Z",
     "iopub.status.idle": "2024-09-10T10:01:19.802190Z",
     "shell.execute_reply": "2024-09-10T10:01:19.801025Z"
    },
    "papermill": {
     "duration": 0.023948,
     "end_time": "2024-09-10T10:01:19.804674",
     "exception": false,
     "start_time": "2024-09-10T10:01:19.780726",
     "status": "completed"
    },
    "tags": []
   },
   "outputs": [
    {
     "data": {
      "application/javascript": [
       "parent.postMessage({\"jupyterEvent\": \"custom.exercise_interaction\", \"data\": {\"outcomeType\": 2, \"failureMessage\": \"Expected file to exist with name `cows_and_goats.csv`\", \"interactionType\": 1, \"questionType\": 2, \"questionId\": \"5_SaveAnimalsCsv\", \"learnToolsVersion\": \"0.3.4\", \"valueTowardsCompletion\": 0.0, \"exceptionClass\": \"\", \"trace\": \"\"}}, \"*\")"
      ],
      "text/plain": [
       "<IPython.core.display.Javascript object>"
      ]
     },
     "metadata": {},
     "output_type": "display_data"
    },
    {
     "data": {
      "text/markdown": [
       "<span style=\"color:#cc3333\">Incorrect:</span> Expected file to exist with name `cows_and_goats.csv`"
      ],
      "text/plain": [
       "Incorrect: Expected file to exist with name `cows_and_goats.csv`"
      ]
     },
     "metadata": {},
     "output_type": "display_data"
    }
   ],
   "source": [
    "# Your code goes here\n",
    "\n",
    "# Check your answer\n",
    "q5.check()"
   ]
  },
  {
   "cell_type": "code",
   "execution_count": 12,
   "id": "2e6bf575",
   "metadata": {
    "execution": {
     "iopub.execute_input": "2024-09-10T10:01:19.826971Z",
     "iopub.status.busy": "2024-09-10T10:01:19.826527Z",
     "iopub.status.idle": "2024-09-10T10:01:19.831165Z",
     "shell.execute_reply": "2024-09-10T10:01:19.830138Z"
    },
    "papermill": {
     "duration": 0.018335,
     "end_time": "2024-09-10T10:01:19.833370",
     "exception": false,
     "start_time": "2024-09-10T10:01:19.815035",
     "status": "completed"
    },
    "tags": []
   },
   "outputs": [],
   "source": [
    "#q5.hint()\n",
    "#q5.solution()"
   ]
  },
  {
   "cell_type": "markdown",
   "id": "4d1e7fdf",
   "metadata": {
    "papermill": {
     "duration": 0.009781,
     "end_time": "2024-09-10T10:01:19.853155",
     "exception": false,
     "start_time": "2024-09-10T10:01:19.843374",
     "status": "completed"
    },
    "tags": []
   },
   "source": [
    "# Keep going\n",
    "\n",
    "Move on to learn about **[indexing, selecting and assigning](https://www.kaggle.com/residentmario/indexing-selecting-assigning)**."
   ]
  },
  {
   "cell_type": "markdown",
   "id": "420006b8",
   "metadata": {
    "papermill": {
     "duration": 0.009667,
     "end_time": "2024-09-10T10:01:19.872831",
     "exception": false,
     "start_time": "2024-09-10T10:01:19.863164",
     "status": "completed"
    },
    "tags": []
   },
   "source": [
    "---\n",
    "\n",
    "\n",
    "\n",
    "\n",
    "*Have questions or comments? Visit the [course discussion forum](https://www.kaggle.com/learn/pandas/discussion) to chat with other learners.*"
   ]
  }
 ],
 "metadata": {
  "kaggle": {
   "accelerator": "none",
   "dataSources": [
    {
     "datasetId": 655,
     "sourceId": 1252,
     "sourceType": "datasetVersion"
    },
    {
     "datasetId": 2321,
     "sourceId": 3919,
     "sourceType": "datasetVersion"
    },
    {
     "datasetId": 2894,
     "sourceId": 4877,
     "sourceType": "datasetVersion"
    },
    {
     "datasetId": 3491,
     "sourceId": 5624,
     "sourceType": "datasetVersion"
    },
    {
     "datasetId": 1442,
     "sourceId": 8172,
     "sourceType": "datasetVersion"
    },
    {
     "datasetId": 9366,
     "sourceId": 13206,
     "sourceType": "datasetVersion"
    },
    {
     "datasetId": 179555,
     "sourceId": 403916,
     "sourceType": "datasetVersion"
    },
    {
     "datasetId": 4549,
     "sourceId": 466349,
     "sourceType": "datasetVersion"
    },
    {
     "datasetId": 2478,
     "sourceId": 1151655,
     "sourceType": "datasetVersion"
    },
    {
     "datasetId": 10128,
     "sourceId": 5438389,
     "sourceType": "datasetVersion"
    }
   ],
   "isGpuEnabled": false,
   "isInternetEnabled": false,
   "language": "python",
   "sourceType": "notebook"
  },
  "kernelspec": {
   "display_name": "Python 3",
   "language": "python",
   "name": "python3"
  },
  "language_info": {
   "codemirror_mode": {
    "name": "ipython",
    "version": 3
   },
   "file_extension": ".py",
   "mimetype": "text/x-python",
   "name": "python",
   "nbconvert_exporter": "python",
   "pygments_lexer": "ipython3",
   "version": "3.10.14"
  },
  "papermill": {
   "default_parameters": {},
   "duration": 6.813167,
   "end_time": "2024-09-10T10:01:20.403412",
   "environment_variables": {},
   "exception": null,
   "input_path": "__notebook__.ipynb",
   "output_path": "__notebook__.ipynb",
   "parameters": {},
   "start_time": "2024-09-10T10:01:13.590245",
   "version": "2.6.0"
  }
 },
 "nbformat": 4,
 "nbformat_minor": 5
}
